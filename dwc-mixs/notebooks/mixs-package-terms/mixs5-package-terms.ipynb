{
 "cells": [
  {
   "cell_type": "markdown",
   "id": "ruled-sperm",
   "metadata": {},
   "source": [
    "# MIxS 5 Package Terms\n",
    "This notebooks creates two spreadsheets:\n",
    "- A spreadsheet of package terms, but excludes any package terms that are also the core terms.\n",
    "- A spreadsheet of the package only terms (as above), but also excludes the package name and other non-essential columns."
   ]
  },
  {
   "cell_type": "code",
   "execution_count": 1,
   "id": "institutional-gothic",
   "metadata": {},
   "outputs": [],
   "source": [
    "import pandas as pds"
   ]
  },
  {
   "cell_type": "markdown",
   "id": "eight-algeria",
   "metadata": {},
   "source": [
    "## load MIxS 5 package and core terms\n",
    "note the use of `engine='openpyxl'`. This is required due to a security flaw in the older `xlrd` package.  \n",
    "see: https://stackoverflow.com/questions/65254535/xlrd-biffh-xlrderror-excel-xlsx-file-not-supported"
   ]
  },
  {
   "cell_type": "code",
   "execution_count": 104,
   "id": "environmental-diana",
   "metadata": {},
   "outputs": [],
   "source": [
    "df_core = pds.read_excel('data/mixs_v5.xlsx', sheet_name='MIxS', engine='openpyxl')\n",
    "df_package = pds.read_excel('data/mixs_v5.xlsx', sheet_name='environmental_packages', engine='openpyxl')"
   ]
  },
  {
   "cell_type": "code",
   "execution_count": 105,
   "id": "adequate-arbor",
   "metadata": {},
   "outputs": [],
   "source": [
    "# df_package.head() # uncomment to peek at data"
   ]
  },
  {
   "cell_type": "code",
   "execution_count": 106,
   "id": "radio-douglas",
   "metadata": {},
   "outputs": [],
   "source": [
    "# df_core # uncomment to peek at data"
   ]
  },
  {
   "cell_type": "markdown",
   "id": "corresponding-bikini",
   "metadata": {},
   "source": [
    "## perform some data clean up\n",
    "- drop rows with all NaNs (created by blank rows in source spreadsheet)\n",
    "- strip spaces from around string values"
   ]
  },
  {
   "cell_type": "code",
   "execution_count": 107,
   "id": "weird-monster",
   "metadata": {},
   "outputs": [],
   "source": [
    "df_core.dropna(how='all', inplace=True)\n",
    "df_package.dropna(how='all', inplace=True)"
   ]
  },
  {
   "cell_type": "code",
   "execution_count": 109,
   "id": "positive-asthma",
   "metadata": {},
   "outputs": [],
   "source": [
    "df_core = df_core.applymap(lambda x: x.strip() if type(x) == type('') else x)\n",
    "df_package = df_package.applymap(lambda x: x.strip() if type(x) == type('') else x)"
   ]
  },
  {
   "cell_type": "markdown",
   "id": "false-mattress",
   "metadata": {},
   "source": [
    "## check overlap between package and core terms\n",
    "steps:\n",
    "- create unique list of package and core terms\n",
    "- count number of package terms that are not core terms\n",
    "- count number of package terms that are core terms\n",
    "\n",
    "**result**: In the MIxS 5 spreadsheet, 3 terms are package and core terms: 'alt', 'elev', 'depth'"
   ]
  },
  {
   "cell_type": "code",
   "execution_count": 110,
   "id": "automatic-sierra",
   "metadata": {},
   "outputs": [
    {
     "name": "stdout",
     "output_type": "stream",
     "text": [
      "number of unique core terms: 94\n",
      "number of unique package terms: 509\n"
     ]
    }
   ],
   "source": [
    "core_terms = list(df_core['Structured comment name'].unique())\n",
    "package_terms = list(df_package['Structured comment name'].unique())\n",
    "print('number of unique core terms:', len(core_terms))\n",
    "print('number of unique package terms:', len(package_terms))"
   ]
  },
  {
   "cell_type": "code",
   "execution_count": 111,
   "id": "fiscal-silence",
   "metadata": {},
   "outputs": [
    {
     "name": "stdout",
     "output_type": "stream",
     "text": [
      "number of package terms not in core terms: 506\n"
     ]
    }
   ],
   "source": [
    "package_only_terms = [term for term in package_terms if term not in core_terms]\n",
    "print('number of package terms not in core terms:', len(package_only_terms))"
   ]
  },
  {
   "cell_type": "code",
   "execution_count": 112,
   "id": "occupied-watts",
   "metadata": {},
   "outputs": [
    {
     "name": "stdout",
     "output_type": "stream",
     "text": [
      "number of package terms are also core terms: 3\n"
     ]
    },
    {
     "data": {
      "text/plain": [
       "['alt', 'elev', 'depth']"
      ]
     },
     "execution_count": 112,
     "metadata": {},
     "output_type": "execute_result"
    }
   ],
   "source": [
    "package_core_terms = [term for term in package_terms if term in core_terms]\n",
    "print('number of package terms are also core terms:', len(package_core_terms))\n",
    "package_core_terms"
   ]
  },
  {
   "cell_type": "markdown",
   "id": "medical-quality",
   "metadata": {},
   "source": [
    "## create spreadsheet excluding the core terms (i.e., package only terms)"
   ]
  },
  {
   "cell_type": "code",
   "execution_count": 119,
   "id": "clear-debut",
   "metadata": {},
   "outputs": [
    {
     "name": "stdout",
     "output_type": "stream",
     "text": [
      "number of unfiltered rows: 1013\n",
      "number of filtered rows: 993\n"
     ]
    }
   ],
   "source": [
    "df_package_no_core = df_package[ df_package['Structured comment name'].isin(package_only_terms) ]\n",
    "print('number of unfiltered rows:', len(df_package))\n",
    "print('number of filtered rows:', len(df_package_no_core))"
   ]
  },
  {
   "cell_type": "code",
   "execution_count": 116,
   "id": "biological-means",
   "metadata": {},
   "outputs": [],
   "source": [
    "# df_filtered"
   ]
  },
  {
   "cell_type": "code",
   "execution_count": 149,
   "id": "formal-springfield",
   "metadata": {},
   "outputs": [],
   "source": [
    "df_package_no_core.to_csv('output/mixs5-packages-exclude-core.tsv', sep='\\t')"
   ]
  },
  {
   "cell_type": "markdown",
   "id": "stylish-kansas",
   "metadata": {},
   "source": [
    "## create spreadsheet of package only terms, but drop the package name and other non-essential columns"
   ]
  },
  {
   "cell_type": "code",
   "execution_count": 147,
   "id": "regular-assignment",
   "metadata": {},
   "outputs": [],
   "source": [
    "columns_to_drop = ['Environmental package', 'MIXS ID', 'Position', 'Occurrence', 'Requirement', 'Example', 'Preferred unit', 'Expected value', 'Value syntax']\n",
    "df_package_only_terms = df_package_no_core.drop(columns=columns_to_drop).drop_duplicates()"
   ]
  },
  {
   "cell_type": "code",
   "execution_count": 148,
   "id": "valid-gabriel",
   "metadata": {},
   "outputs": [
    {
     "data": {
      "text/html": [
       "<div>\n",
       "<style scoped>\n",
       "    .dataframe tbody tr th:only-of-type {\n",
       "        vertical-align: middle;\n",
       "    }\n",
       "\n",
       "    .dataframe tbody tr th {\n",
       "        vertical-align: top;\n",
       "    }\n",
       "\n",
       "    .dataframe thead th {\n",
       "        text-align: right;\n",
       "    }\n",
       "</style>\n",
       "<table border=\"1\" class=\"dataframe\">\n",
       "  <thead>\n",
       "    <tr style=\"text-align: right;\">\n",
       "      <th></th>\n",
       "      <th>Structured comment name</th>\n",
       "      <th>Package item</th>\n",
       "      <th>Definition</th>\n",
       "    </tr>\n",
       "  </thead>\n",
       "  <tbody>\n",
       "    <tr>\n",
       "      <th>2</th>\n",
       "      <td>barometric_press</td>\n",
       "      <td>barometric pressure</td>\n",
       "      <td>Force per unit area exerted against a surface ...</td>\n",
       "    </tr>\n",
       "    <tr>\n",
       "      <th>3</th>\n",
       "      <td>carb_dioxide</td>\n",
       "      <td>carbon dioxide</td>\n",
       "      <td>Carbon dioxide (gas) amount or concentration a...</td>\n",
       "    </tr>\n",
       "    <tr>\n",
       "      <th>4</th>\n",
       "      <td>carb_monoxide</td>\n",
       "      <td>carbon monoxide</td>\n",
       "      <td>Carbon monoxide (gas) amount or concentration ...</td>\n",
       "    </tr>\n",
       "    <tr>\n",
       "      <th>5</th>\n",
       "      <td>chem_administration</td>\n",
       "      <td>chemical administration</td>\n",
       "      <td>List of chemical compounds administered to the...</td>\n",
       "    </tr>\n",
       "    <tr>\n",
       "      <th>6</th>\n",
       "      <td>humidity</td>\n",
       "      <td>humidity</td>\n",
       "      <td>Amount of water vapour in the air, at the time...</td>\n",
       "    </tr>\n",
       "    <tr>\n",
       "      <th>...</th>\n",
       "      <td>...</td>\n",
       "      <td>...</td>\n",
       "      <td>...</td>\n",
       "    </tr>\n",
       "    <tr>\n",
       "      <th>999</th>\n",
       "      <td>soluble_react_phosp</td>\n",
       "      <td>soluble reactive phosphorus</td>\n",
       "      <td>Concentration of soluble reactive phosphorus</td>\n",
       "    </tr>\n",
       "    <tr>\n",
       "      <th>1002</th>\n",
       "      <td>suspend_part_matter</td>\n",
       "      <td>suspended particulate matter</td>\n",
       "      <td>Concentration of suspended particulate matter</td>\n",
       "    </tr>\n",
       "    <tr>\n",
       "      <th>1006</th>\n",
       "      <td>tot_diss_nitro</td>\n",
       "      <td>total dissolved nitrogen</td>\n",
       "      <td>Total dissolved nitrogen concentration, report...</td>\n",
       "    </tr>\n",
       "    <tr>\n",
       "      <th>1007</th>\n",
       "      <td>tot_inorg_nitro</td>\n",
       "      <td>total inorganic nitrogen</td>\n",
       "      <td>Total inorganic nitrogen content</td>\n",
       "    </tr>\n",
       "    <tr>\n",
       "      <th>1009</th>\n",
       "      <td>tot_part_carb</td>\n",
       "      <td>total particulate carbon</td>\n",
       "      <td>Total particulate carbon content</td>\n",
       "    </tr>\n",
       "  </tbody>\n",
       "</table>\n",
       "<p>507 rows × 3 columns</p>\n",
       "</div>"
      ],
      "text/plain": [
       "     Structured comment name                  Package item  \\\n",
       "2           barometric_press           barometric pressure   \n",
       "3               carb_dioxide                carbon dioxide   \n",
       "4              carb_monoxide               carbon monoxide   \n",
       "5        chem_administration       chemical administration   \n",
       "6                   humidity                      humidity   \n",
       "...                      ...                           ...   \n",
       "999      soluble_react_phosp   soluble reactive phosphorus   \n",
       "1002     suspend_part_matter  suspended particulate matter   \n",
       "1006          tot_diss_nitro      total dissolved nitrogen   \n",
       "1007         tot_inorg_nitro      total inorganic nitrogen   \n",
       "1009           tot_part_carb      total particulate carbon   \n",
       "\n",
       "                                             Definition  \n",
       "2     Force per unit area exerted against a surface ...  \n",
       "3     Carbon dioxide (gas) amount or concentration a...  \n",
       "4     Carbon monoxide (gas) amount or concentration ...  \n",
       "5     List of chemical compounds administered to the...  \n",
       "6     Amount of water vapour in the air, at the time...  \n",
       "...                                                 ...  \n",
       "999        Concentration of soluble reactive phosphorus  \n",
       "1002      Concentration of suspended particulate matter  \n",
       "1006  Total dissolved nitrogen concentration, report...  \n",
       "1007                   Total inorganic nitrogen content  \n",
       "1009                   Total particulate carbon content  \n",
       "\n",
       "[507 rows x 3 columns]"
      ]
     },
     "execution_count": 148,
     "metadata": {},
     "output_type": "execute_result"
    }
   ],
   "source": [
    "df_package_only_terms"
   ]
  },
  {
   "cell_type": "code",
   "execution_count": 150,
   "id": "overhead-annex",
   "metadata": {},
   "outputs": [],
   "source": [
    "df_package_only_terms.to_csv('output/mixs5-packages-terms-only.tsv', sep='\\t')"
   ]
  },
  {
   "cell_type": "code",
   "execution_count": null,
   "id": "united-milan",
   "metadata": {},
   "outputs": [],
   "source": []
  }
 ],
 "metadata": {
  "kernelspec": {
   "display_name": "Python 3",
   "language": "python",
   "name": "python3"
  },
  "language_info": {
   "codemirror_mode": {
    "name": "ipython",
    "version": 3
   },
   "file_extension": ".py",
   "mimetype": "text/x-python",
   "name": "python",
   "nbconvert_exporter": "python",
   "pygments_lexer": "ipython3",
   "version": "3.7.10"
  }
 },
 "nbformat": 4,
 "nbformat_minor": 5
}
